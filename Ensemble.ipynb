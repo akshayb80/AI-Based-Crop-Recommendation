{
 "cells": [
  {
   "cell_type": "code",
   "execution_count": 5,
   "metadata": {},
   "outputs": [],
   "source": [
    "import pandas as pd\n",
    "from sklearn import model_selection\n",
    "from sklearn.tree import DecisionTreeClassifier\n",
    "from sklearn.svm import SVC\n",
    "from sklearn.ensemble import VotingClassifier, RandomForestClassifier\n",
    "from sklearn.neighbors import KNeighborsClassifier"
   ]
  },
  {
   "cell_type": "code",
   "execution_count": 6,
   "metadata": {},
   "outputs": [],
   "source": [
    "df = pd.read_csv('CropDataset.csv')"
   ]
  },
  {
   "cell_type": "code",
   "execution_count": 7,
   "metadata": {},
   "outputs": [
    {
     "data": {
      "text/plain": [
       "Index(['N', 'P', 'K', 'temperature', 'humidity', 'ph', 'rainfall', 'label'], dtype='object')"
      ]
     },
     "execution_count": 7,
     "metadata": {},
     "output_type": "execute_result"
    }
   ],
   "source": [
    "df.columns"
   ]
  },
  {
   "cell_type": "code",
   "execution_count": 8,
   "metadata": {},
   "outputs": [],
   "source": [
    "# Feature selection\n",
    "X = df.iloc[:, 3:7]\n",
    "Y = df.iloc[:,7]"
   ]
  },
  {
   "cell_type": "markdown",
   "metadata": {},
   "source": [
    "## Decision Tree"
   ]
  },
  {
   "cell_type": "code",
   "execution_count": 9,
   "metadata": {},
   "outputs": [],
   "source": [
    "DecisionTree = DecisionTreeClassifier(criterion='entropy',random_state=2,max_depth=7)"
   ]
  },
  {
   "cell_type": "markdown",
   "metadata": {},
   "source": [
    "## Support Vector Machine"
   ]
  },
  {
   "cell_type": "code",
   "execution_count": 10,
   "metadata": {},
   "outputs": [],
   "source": [
    "svc = SVC(C = 10, gamma = 0.01, kernel = 'rbf')"
   ]
  },
  {
   "cell_type": "markdown",
   "metadata": {},
   "source": [
    "## Random Forest"
   ]
  },
  {
   "cell_type": "code",
   "execution_count": 11,
   "metadata": {},
   "outputs": [],
   "source": [
    "forest = RandomForestClassifier(n_estimators=20, random_state=0)"
   ]
  },
  {
   "cell_type": "code",
   "execution_count": 12,
   "metadata": {},
   "outputs": [],
   "source": [
    "knn=KNeighborsClassifier(n_neighbors=6,algorithm='ball_tree')"
   ]
  },
  {
   "cell_type": "markdown",
   "metadata": {},
   "source": [
    "## Splitting Ratio"
   ]
  },
  {
   "cell_type": "code",
   "execution_count": 13,
   "metadata": {},
   "outputs": [],
   "source": [
    "seed = 101\n",
    "kfold = model_selection.KFold(n_splits=20, random_state=seed, shuffle=True)"
   ]
  },
  {
   "cell_type": "markdown",
   "metadata": {},
   "source": [
    "## Ensembling"
   ]
  },
  {
   "cell_type": "code",
   "execution_count": 14,
   "metadata": {},
   "outputs": [],
   "source": [
    "estimators = []\n",
    "estimators.append(('Desicion Tree', DecisionTree))\n",
    "estimators.append(('SVM', svc))\n",
    "estimators.append(('Random Forest', forest))\n",
    "estimators.append(('kneighbors', knn))"
   ]
  },
  {
   "cell_type": "code",
   "execution_count": 15,
   "metadata": {},
   "outputs": [],
   "source": [
    "features = df[['N', 'P', 'K', 'temperature', 'humidity', 'ph', 'rainfall']]\n",
    "target = df['label']\n",
    "labels = df['label']"
   ]
  },
  {
   "cell_type": "code",
   "execution_count": 16,
   "metadata": {},
   "outputs": [],
   "source": [
    "ensemble = VotingClassifier(estimators,voting='hard')\n",
    "results = model_selection.cross_val_score(ensemble, X, Y, cv=kfold)"
   ]
  },
  {
   "cell_type": "code",
   "execution_count": 24,
   "metadata": {},
   "outputs": [
    {
     "name": "stdout",
     "output_type": "stream",
     "text": [
      "0.9286363636363637\n"
     ]
    }
   ],
   "source": [
    "print(results.mean())"
   ]
  },
  {
   "cell_type": "code",
   "execution_count": 19,
   "metadata": {},
   "outputs": [],
   "source": [
    "from sklearn.model_selection import train_test_split\n",
    "Xtrain, Xtest, Ytrain, Ytest = train_test_split(features,target, test_size = 0.25, random_state=101)\n"
   ]
  },
  {
   "cell_type": "code",
   "execution_count": 21,
   "metadata": {},
   "outputs": [
    {
     "data": {
      "text/plain": [
       "0.9872727272727273"
      ]
     },
     "execution_count": 21,
     "metadata": {},
     "output_type": "execute_result"
    }
   ],
   "source": [
    "ensemble.fit(Xtrain,Ytrain)\n",
    "ensemble.score(Xtest,Ytest)"
   ]
  },
  {
   "cell_type": "code",
   "execution_count": 23,
   "metadata": {},
   "outputs": [
    {
     "data": {
      "text/plain": [
       "array(['mango', 'chickpea', 'lentil', 'muskmelon', 'jute', 'maize',\n",
       "       'coffee', 'cotton', 'grapes', 'kidneybeans', 'pigeonpeas',\n",
       "       'muskmelon', 'papaya', 'blackgram', 'maize', 'pigeonpeas',\n",
       "       'cotton', 'watermelon', 'muskmelon', 'coconut', 'cotton',\n",
       "       'blackgram', 'muskmelon', 'grapes', 'chickpea', 'watermelon',\n",
       "       'coffee', 'coconut', 'watermelon', 'coffee', 'rice', 'banana',\n",
       "       'pomegranate', 'maize', 'blackgram', 'lentil', 'watermelon',\n",
       "       'watermelon', 'rice', 'pigeonpeas', 'orange', 'orange', 'rice',\n",
       "       'grapes', 'kidneybeans', 'kidneybeans', 'mothbeans', 'lentil',\n",
       "       'pigeonpeas', 'lentil', 'kidneybeans', 'pigeonpeas', 'lentil',\n",
       "       'coffee', 'muskmelon', 'cotton', 'papaya', 'watermelon', 'grapes',\n",
       "       'banana', 'chickpea', 'grapes', 'apple', 'muskmelon', 'lentil',\n",
       "       'grapes', 'cotton', 'watermelon', 'mungbean', 'watermelon',\n",
       "       'blackgram', 'kidneybeans', 'apple', 'blackgram', 'mothbeans',\n",
       "       'jute', 'mothbeans', 'grapes', 'chickpea', 'maize', 'pigeonpeas',\n",
       "       'kidneybeans', 'banana', 'coconut', 'pigeonpeas', 'apple',\n",
       "       'watermelon', 'mungbean', 'chickpea', 'pigeonpeas', 'chickpea',\n",
       "       'chickpea', 'rice', 'pomegranate', 'cotton', 'banana', 'rice',\n",
       "       'grapes', 'kidneybeans', 'orange', 'watermelon', 'mothbeans',\n",
       "       'pigeonpeas', 'jute', 'pomegranate', 'jute', 'apple', 'apple',\n",
       "       'cotton', 'watermelon', 'mango', 'watermelon', 'kidneybeans',\n",
       "       'grapes', 'apple', 'mungbean', 'kidneybeans', 'apple', 'chickpea',\n",
       "       'orange', 'watermelon', 'coffee', 'coffee', 'coconut', 'chickpea',\n",
       "       'banana', 'coconut', 'mungbean', 'papaya', 'maize', 'mango',\n",
       "       'apple', 'grapes', 'watermelon', 'coconut', 'orange', 'mothbeans',\n",
       "       'watermelon', 'lentil', 'rice', 'orange', 'grapes', 'watermelon',\n",
       "       'watermelon', 'maize', 'coffee', 'jute', 'papaya', 'chickpea',\n",
       "       'coffee', 'cotton', 'mungbean', 'grapes', 'apple', 'watermelon',\n",
       "       'mango', 'pomegranate', 'papaya', 'muskmelon', 'pomegranate',\n",
       "       'kidneybeans', 'papaya', 'chickpea', 'mothbeans', 'rice',\n",
       "       'pigeonpeas', 'watermelon', 'coconut', 'kidneybeans', 'mango',\n",
       "       'jute', 'coconut', 'watermelon', 'maize', 'papaya', 'mungbean',\n",
       "       'mango', 'chickpea', 'banana', 'banana', 'cotton', 'pomegranate',\n",
       "       'banana', 'maize', 'banana', 'pomegranate', 'mothbeans', 'rice',\n",
       "       'jute', 'pigeonpeas', 'pigeonpeas', 'grapes', 'maize', 'apple',\n",
       "       'apple', 'blackgram', 'mango', 'coffee', 'grapes', 'maize',\n",
       "       'grapes', 'orange', 'apple', 'jute', 'pomegranate', 'lentil',\n",
       "       'mango', 'coconut', 'grapes', 'cotton', 'maize', 'mungbean',\n",
       "       'cotton', 'lentil', 'mothbeans', 'kidneybeans', 'coconut',\n",
       "       'mungbean', 'mango', 'blackgram', 'coconut', 'coffee', 'muskmelon',\n",
       "       'coffee', 'blackgram', 'banana', 'maize', 'chickpea', 'maize',\n",
       "       'orange', 'chickpea', 'mungbean', 'mungbean', 'chickpea', 'mango',\n",
       "       'mango', 'mothbeans', 'lentil', 'orange', 'grapes', 'pomegranate',\n",
       "       'blackgram', 'pomegranate', 'pomegranate', 'maize', 'chickpea',\n",
       "       'rice', 'apple', 'apple', 'chickpea', 'jute', 'muskmelon',\n",
       "       'coffee', 'mango', 'jute', 'pomegranate', 'maize', 'coffee',\n",
       "       'muskmelon', 'apple', 'maize', 'jute', 'rice', 'mango',\n",
       "       'pigeonpeas', 'cotton', 'watermelon', 'rice', 'apple',\n",
       "       'watermelon', 'orange', 'apple', 'mothbeans', 'coffee', 'grapes',\n",
       "       'pigeonpeas', 'grapes', 'apple', 'banana', 'grapes', 'papaya',\n",
       "       'coconut', 'blackgram', 'pigeonpeas', 'jute', 'maize', 'grapes',\n",
       "       'coconut', 'blackgram', 'apple', 'blackgram', 'kidneybeans',\n",
       "       'coconut', 'banana', 'coffee', 'chickpea', 'apple', 'orange',\n",
       "       'orange', 'cotton', 'mango', 'jute', 'lentil', 'jute', 'blackgram',\n",
       "       'rice', 'cotton', 'mungbean', 'watermelon', 'maize', 'kidneybeans',\n",
       "       'grapes', 'jute', 'kidneybeans', 'pigeonpeas', 'mothbeans',\n",
       "       'watermelon', 'muskmelon', 'pomegranate', 'orange', 'rice',\n",
       "       'lentil', 'kidneybeans', 'apple', 'grapes', 'pomegranate',\n",
       "       'pomegranate', 'blackgram', 'banana', 'papaya', 'rice', 'apple',\n",
       "       'kidneybeans', 'banana', 'pomegranate', 'blackgram', 'papaya',\n",
       "       'chickpea', 'blackgram', 'coconut', 'mungbean', 'apple', 'coffee',\n",
       "       'grapes', 'lentil', 'mango', 'muskmelon', 'lentil', 'banana',\n",
       "       'pigeonpeas', 'muskmelon', 'lentil', 'jute', 'jute', 'maize',\n",
       "       'mungbean', 'muskmelon', 'muskmelon', 'cotton', 'mango',\n",
       "       'chickpea', 'kidneybeans', 'jute', 'kidneybeans', 'papaya',\n",
       "       'maize', 'mango', 'cotton', 'mothbeans', 'coffee', 'pigeonpeas',\n",
       "       'coffee', 'watermelon', 'chickpea', 'mango', 'papaya', 'grapes',\n",
       "       'maize', 'mungbean', 'cotton', 'grapes', 'cotton', 'mungbean',\n",
       "       'orange', 'mungbean', 'orange', 'coffee', 'papaya', 'apple',\n",
       "       'banana', 'chickpea', 'maize', 'mungbean', 'jute', 'mungbean',\n",
       "       'orange', 'cotton', 'mothbeans', 'cotton', 'rice', 'mothbeans',\n",
       "       'blackgram', 'mothbeans', 'mungbean', 'muskmelon', 'blackgram',\n",
       "       'lentil', 'mango', 'apple', 'mango', 'orange', 'blackgram',\n",
       "       'blackgram', 'grapes', 'mothbeans', 'grapes', 'mango', 'chickpea',\n",
       "       'orange', 'mungbean', 'banana', 'mothbeans', 'banana',\n",
       "       'pigeonpeas', 'cotton', 'grapes', 'cotton', 'jute', 'coffee',\n",
       "       'maize', 'orange', 'chickpea', 'cotton', 'watermelon', 'chickpea',\n",
       "       'rice', 'orange', 'orange', 'kidneybeans', 'blackgram', 'grapes',\n",
       "       'papaya', 'mothbeans', 'watermelon', 'mothbeans', 'banana',\n",
       "       'mango', 'kidneybeans', 'grapes', 'banana', 'orange',\n",
       "       'pomegranate', 'coconut', 'chickpea', 'apple', 'orange', 'papaya',\n",
       "       'grapes', 'lentil', 'grapes', 'watermelon', 'mungbean',\n",
       "       'mothbeans', 'blackgram', 'maize', 'grapes', 'mango',\n",
       "       'pomegranate', 'mothbeans', 'chickpea', 'mango', 'lentil', 'jute',\n",
       "       'apple', 'papaya', 'rice', 'grapes', 'orange', 'papaya', 'rice',\n",
       "       'watermelon', 'banana', 'mango', 'coconut', 'mungbean', 'apple',\n",
       "       'mothbeans', 'rice', 'banana', 'orange', 'grapes', 'coffee',\n",
       "       'blackgram', 'banana', 'lentil', 'pigeonpeas', 'jute', 'muskmelon',\n",
       "       'jute', 'blackgram', 'muskmelon', 'maize', 'papaya', 'coffee',\n",
       "       'coconut', 'papaya', 'lentil', 'lentil', 'jute', 'rice', 'jute',\n",
       "       'kidneybeans', 'mungbean', 'pomegranate', 'papaya', 'rice',\n",
       "       'blackgram', 'kidneybeans', 'pomegranate', 'lentil', 'lentil',\n",
       "       'coffee', 'blackgram', 'kidneybeans', 'lentil', 'mungbean',\n",
       "       'mungbean', 'coffee', 'lentil', 'mungbean', 'apple', 'rice',\n",
       "       'chickpea', 'grapes', 'banana', 'maize', 'apple', 'mango',\n",
       "       'watermelon', 'blackgram', 'maize', 'banana', 'blackgram', 'jute',\n",
       "       'mothbeans', 'grapes', 'chickpea', 'kidneybeans', 'pomegranate',\n",
       "       'chickpea'], dtype=object)"
      ]
     },
     "execution_count": 23,
     "metadata": {},
     "output_type": "execute_result"
    }
   ],
   "source": [
    "ensemble.predict(Xtest)"
   ]
  },
  {
   "cell_type": "code",
   "execution_count": 27,
   "metadata": {},
   "outputs": [
    {
     "ename": "NameError",
     "evalue": "name 'model' is not defined",
     "output_type": "error",
     "traceback": [
      "\u001b[1;31m---------------------------------------------------------------------------\u001b[0m",
      "\u001b[1;31mNameError\u001b[0m                                 Traceback (most recent call last)",
      "\u001b[1;32m<ipython-input-27-28294c84967b>\u001b[0m in \u001b[0;36m<module>\u001b[1;34m\u001b[0m\n\u001b[1;32m----> 1\u001b[1;33m \u001b[0mmodel\u001b[0m\u001b[1;33m.\u001b[0m\u001b[0msave\u001b[0m\u001b[1;33m(\u001b[0m\u001b[1;34m\"ensemble_model.h5\"\u001b[0m\u001b[1;33m)\u001b[0m\u001b[1;33m\u001b[0m\u001b[1;33m\u001b[0m\u001b[0m\n\u001b[0m",
      "\u001b[1;31mNameError\u001b[0m: name 'model' is not defined"
     ]
    }
   ],
   "source": [
    "model.save(\"ensemble_model.h5\")"
   ]
  },
  {
   "cell_type": "code",
   "execution_count": null,
   "metadata": {},
   "outputs": [],
   "source": []
  }
 ],
 "metadata": {
  "kernelspec": {
   "display_name": "Python 3",
   "language": "python",
   "name": "python3"
  },
  "language_info": {
   "codemirror_mode": {
    "name": "ipython",
    "version": 3
   },
   "file_extension": ".py",
   "mimetype": "text/x-python",
   "name": "python",
   "nbconvert_exporter": "python",
   "pygments_lexer": "ipython3",
   "version": "3.7.6"
  }
 },
 "nbformat": 4,
 "nbformat_minor": 2
}
