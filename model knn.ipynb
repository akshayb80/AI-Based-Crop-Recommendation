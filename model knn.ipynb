{
 "cells": [
  {
   "cell_type": "code",
   "execution_count": 19,
   "metadata": {},
   "outputs": [],
   "source": [
    "import pandas as pd\n",
    "import numpy as np\n",
    "import matplotlib.pyplot as plt\n",
    "import seaborn as sns\n",
    "from sklearn.metrics import classification_report\n",
    "from sklearn import metrics\n",
    "from sklearn import tree"
   ]
  },
  {
   "cell_type": "code",
   "execution_count": 20,
   "metadata": {},
   "outputs": [],
   "source": [
    "df = pd.read_csv('CropDataset.csv')"
   ]
  },
  {
   "cell_type": "code",
   "execution_count": 21,
   "metadata": {},
   "outputs": [
    {
     "data": {
      "text/html": [
       "<div>\n",
       "<style scoped>\n",
       "    .dataframe tbody tr th:only-of-type {\n",
       "        vertical-align: middle;\n",
       "    }\n",
       "\n",
       "    .dataframe tbody tr th {\n",
       "        vertical-align: top;\n",
       "    }\n",
       "\n",
       "    .dataframe thead th {\n",
       "        text-align: right;\n",
       "    }\n",
       "</style>\n",
       "<table border=\"1\" class=\"dataframe\">\n",
       "  <thead>\n",
       "    <tr style=\"text-align: right;\">\n",
       "      <th></th>\n",
       "      <th>N</th>\n",
       "      <th>P</th>\n",
       "      <th>K</th>\n",
       "      <th>temperature</th>\n",
       "      <th>humidity</th>\n",
       "      <th>ph</th>\n",
       "      <th>rainfall</th>\n",
       "      <th>label</th>\n",
       "    </tr>\n",
       "  </thead>\n",
       "  <tbody>\n",
       "    <tr>\n",
       "      <th>0</th>\n",
       "      <td>73</td>\n",
       "      <td>57</td>\n",
       "      <td>44</td>\n",
       "      <td>20.879744</td>\n",
       "      <td>82.002744</td>\n",
       "      <td>6.502985</td>\n",
       "      <td>202.935536</td>\n",
       "      <td>rice</td>\n",
       "    </tr>\n",
       "    <tr>\n",
       "      <th>1</th>\n",
       "      <td>74</td>\n",
       "      <td>57</td>\n",
       "      <td>44</td>\n",
       "      <td>21.770462</td>\n",
       "      <td>80.319644</td>\n",
       "      <td>7.038096</td>\n",
       "      <td>226.655537</td>\n",
       "      <td>rice</td>\n",
       "    </tr>\n",
       "    <tr>\n",
       "      <th>2</th>\n",
       "      <td>92</td>\n",
       "      <td>41</td>\n",
       "      <td>38</td>\n",
       "      <td>23.004459</td>\n",
       "      <td>82.320763</td>\n",
       "      <td>7.840207</td>\n",
       "      <td>263.964248</td>\n",
       "      <td>rice</td>\n",
       "    </tr>\n",
       "    <tr>\n",
       "      <th>3</th>\n",
       "      <td>68</td>\n",
       "      <td>44</td>\n",
       "      <td>38</td>\n",
       "      <td>26.491096</td>\n",
       "      <td>80.158363</td>\n",
       "      <td>6.980401</td>\n",
       "      <td>242.864034</td>\n",
       "      <td>rice</td>\n",
       "    </tr>\n",
       "    <tr>\n",
       "      <th>4</th>\n",
       "      <td>66</td>\n",
       "      <td>36</td>\n",
       "      <td>40</td>\n",
       "      <td>20.130175</td>\n",
       "      <td>81.604873</td>\n",
       "      <td>7.628473</td>\n",
       "      <td>262.717340</td>\n",
       "      <td>rice</td>\n",
       "    </tr>\n",
       "  </tbody>\n",
       "</table>\n",
       "</div>"
      ],
      "text/plain": [
       "    N   P   K  temperature   humidity        ph    rainfall label\n",
       "0  73  57  44    20.879744  82.002744  6.502985  202.935536  rice\n",
       "1  74  57  44    21.770462  80.319644  7.038096  226.655537  rice\n",
       "2  92  41  38    23.004459  82.320763  7.840207  263.964248  rice\n",
       "3  68  44  38    26.491096  80.158363  6.980401  242.864034  rice\n",
       "4  66  36  40    20.130175  81.604873  7.628473  262.717340  rice"
      ]
     },
     "execution_count": 21,
     "metadata": {},
     "output_type": "execute_result"
    }
   ],
   "source": [
    "df.head()"
   ]
  },
  {
   "cell_type": "code",
   "execution_count": 22,
   "metadata": {},
   "outputs": [
    {
     "data": {
      "text/plain": [
       "17600"
      ]
     },
     "execution_count": 22,
     "metadata": {},
     "output_type": "execute_result"
    }
   ],
   "source": [
    "df.size"
   ]
  },
  {
   "cell_type": "code",
   "execution_count": 23,
   "metadata": {},
   "outputs": [
    {
     "data": {
      "text/plain": [
       "(2200, 8)"
      ]
     },
     "execution_count": 23,
     "metadata": {},
     "output_type": "execute_result"
    }
   ],
   "source": [
    "df.shape"
   ]
  },
  {
   "cell_type": "code",
   "execution_count": 24,
   "metadata": {},
   "outputs": [
    {
     "data": {
      "text/plain": [
       "Index(['N', 'P', 'K', 'temperature', 'humidity', 'ph', 'rainfall', 'label'], dtype='object')"
      ]
     },
     "execution_count": 24,
     "metadata": {},
     "output_type": "execute_result"
    }
   ],
   "source": [
    "df.columns"
   ]
  },
  {
   "cell_type": "code",
   "execution_count": 25,
   "metadata": {},
   "outputs": [
    {
     "data": {
      "text/plain": [
       "array(['rice', 'maize', 'chickpea', 'kidneybeans', 'pigeonpeas',\n",
       "       'mothbeans', 'mungbean', 'blackgram', 'lentil', 'pomegranate',\n",
       "       'banana', 'mango', 'grapes', 'watermelon', 'muskmelon', 'apple',\n",
       "       'orange', 'papaya', 'coconut', 'cotton', 'jute', 'coffee'],\n",
       "      dtype=object)"
      ]
     },
     "execution_count": 25,
     "metadata": {},
     "output_type": "execute_result"
    }
   ],
   "source": [
    "df['label'].unique()"
   ]
  },
  {
   "cell_type": "code",
   "execution_count": 26,
   "metadata": {},
   "outputs": [],
   "source": [
    "features = df[['N', 'P', 'K', 'temperature', 'humidity', 'ph', 'rainfall']]\n",
    "target = df['label']\n",
    "labels = df['label']"
   ]
  },
  {
   "cell_type": "code",
   "execution_count": 27,
   "metadata": {},
   "outputs": [],
   "source": [
    "accuracy = []\n",
    "model = []"
   ]
  },
  {
   "cell_type": "code",
   "execution_count": 39,
   "metadata": {},
   "outputs": [],
   "source": [
    "from sklearn.model_selection import train_test_split\n",
    "Xtrain, Xtest, Ytrain, Ytest = train_test_split(features,target, test_size = 0.25, random_state=101)"
   ]
  },
  {
   "cell_type": "code",
   "execution_count": 40,
   "metadata": {},
   "outputs": [
    {
     "data": {
      "text/plain": [
       "KNeighborsClassifier(algorithm='ball_tree', leaf_size=30, metric='minkowski',\n",
       "                     metric_params=None, n_jobs=None, n_neighbors=3, p=2,\n",
       "                     weights='uniform')"
      ]
     },
     "execution_count": 40,
     "metadata": {},
     "output_type": "execute_result"
    }
   ],
   "source": [
    "from sklearn.neighbors import KNeighborsClassifier\n",
    "# Information Gain\n",
    "knn=KNeighborsClassifier(n_neighbors=3,algorithm='ball_tree')\n",
    "\n",
    "knn.fit(Xtrain,Ytrain)"
   ]
  },
  {
   "cell_type": "code",
   "execution_count": 41,
   "metadata": {},
   "outputs": [
    {
     "name": "stdout",
     "output_type": "stream",
     "text": [
      "k nearest neighbor Accuracy:  97.81818181818181\n",
      "              precision    recall  f1-score   support\n",
      "\n",
      "       apple       1.00      1.00      1.00        30\n",
      "      banana       1.00      1.00      1.00        25\n",
      "   blackgram       0.96      1.00      0.98        27\n",
      "    chickpea       1.00      1.00      1.00        30\n",
      "     coconut       1.00      1.00      1.00        18\n",
      "      coffee       1.00      1.00      1.00        24\n",
      "      cotton       1.00      1.00      1.00        23\n",
      "      grapes       1.00      1.00      1.00        38\n",
      "        jute       0.90      0.78      0.84        23\n",
      " kidneybeans       0.96      1.00      0.98        25\n",
      "      lentil       0.93      0.96      0.94        26\n",
      "       maize       1.00      1.00      1.00        27\n",
      "       mango       1.00      1.00      1.00        26\n",
      "   mothbeans       0.95      0.87      0.91        23\n",
      "    mungbean       1.00      1.00      1.00        26\n",
      "   muskmelon       1.00      1.00      1.00        18\n",
      "      orange       1.00      1.00      1.00        25\n",
      "      papaya       1.00      0.95      0.97        20\n",
      "  pigeonpeas       1.00      0.95      0.97        20\n",
      " pomegranate       1.00      1.00      1.00        21\n",
      "        rice       0.83      0.96      0.89        25\n",
      "  watermelon       1.00      1.00      1.00        30\n",
      "\n",
      "    accuracy                           0.98       550\n",
      "   macro avg       0.98      0.98      0.98       550\n",
      "weighted avg       0.98      0.98      0.98       550\n",
      "\n"
     ]
    }
   ],
   "source": [
    "prediction_vals = knn.predict(Xtest)\n",
    "x = metrics.accuracy_score(Ytest, prediction_vals)\n",
    "accuracy.append(x)\n",
    "model.append('k nearest neighbours')\n",
    "print('k nearest neighbor Accuracy: ', x*100)\n",
    "\n",
    "print(classification_report(Ytest,prediction_vals))"
   ]
  },
  {
   "cell_type": "code",
   "execution_count": 38,
   "metadata": {},
   "outputs": [
    {
     "data": {
      "text/html": [
       "<div>\n",
       "<style scoped>\n",
       "    .dataframe tbody tr th:only-of-type {\n",
       "        vertical-align: middle;\n",
       "    }\n",
       "\n",
       "    .dataframe tbody tr th {\n",
       "        vertical-align: top;\n",
       "    }\n",
       "\n",
       "    .dataframe thead th {\n",
       "        text-align: right;\n",
       "    }\n",
       "</style>\n",
       "<table border=\"1\" class=\"dataframe\">\n",
       "  <thead>\n",
       "    <tr style=\"text-align: right;\">\n",
       "      <th></th>\n",
       "      <th>N</th>\n",
       "      <th>P</th>\n",
       "      <th>K</th>\n",
       "      <th>temperature</th>\n",
       "      <th>humidity</th>\n",
       "      <th>ph</th>\n",
       "      <th>rainfall</th>\n",
       "    </tr>\n",
       "  </thead>\n",
       "  <tbody>\n",
       "    <tr>\n",
       "      <th>2121</th>\n",
       "      <td>110</td>\n",
       "      <td>18</td>\n",
       "      <td>29</td>\n",
       "      <td>25.567483</td>\n",
       "      <td>60.492446</td>\n",
       "      <td>7.466901</td>\n",
       "      <td>190.225784</td>\n",
       "    </tr>\n",
       "    <tr>\n",
       "      <th>960</th>\n",
       "      <td>31</td>\n",
       "      <td>20</td>\n",
       "      <td>41</td>\n",
       "      <td>23.985988</td>\n",
       "      <td>93.342366</td>\n",
       "      <td>5.684995</td>\n",
       "      <td>104.991282</td>\n",
       "    </tr>\n",
       "    <tr>\n",
       "      <th>952</th>\n",
       "      <td>3</td>\n",
       "      <td>9</td>\n",
       "      <td>37</td>\n",
       "      <td>21.207254</td>\n",
       "      <td>94.263047</td>\n",
       "      <td>7.163005</td>\n",
       "      <td>107.566080</td>\n",
       "    </tr>\n",
       "    <tr>\n",
       "      <th>1958</th>\n",
       "      <td>117</td>\n",
       "      <td>57</td>\n",
       "      <td>18</td>\n",
       "      <td>22.942767</td>\n",
       "      <td>75.371706</td>\n",
       "      <td>6.114526</td>\n",
       "      <td>67.080226</td>\n",
       "    </tr>\n",
       "    <tr>\n",
       "      <th>681</th>\n",
       "      <td>27</td>\n",
       "      <td>43</td>\n",
       "      <td>21</td>\n",
       "      <td>28.086572</td>\n",
       "      <td>80.350059</td>\n",
       "      <td>6.760694</td>\n",
       "      <td>38.144768</td>\n",
       "    </tr>\n",
       "    <tr>\n",
       "      <th>...</th>\n",
       "      <td>...</td>\n",
       "      <td>...</td>\n",
       "      <td>...</td>\n",
       "      <td>...</td>\n",
       "      <td>...</td>\n",
       "      <td>...</td>\n",
       "      <td>...</td>\n",
       "    </tr>\n",
       "    <tr>\n",
       "      <th>1684</th>\n",
       "      <td>19</td>\n",
       "      <td>19</td>\n",
       "      <td>9</td>\n",
       "      <td>10.164313</td>\n",
       "      <td>91.223210</td>\n",
       "      <td>6.465913</td>\n",
       "      <td>106.362551</td>\n",
       "    </tr>\n",
       "    <tr>\n",
       "      <th>1477</th>\n",
       "      <td>85</td>\n",
       "      <td>25</td>\n",
       "      <td>55</td>\n",
       "      <td>28.965866</td>\n",
       "      <td>90.718329</td>\n",
       "      <td>6.566759</td>\n",
       "      <td>22.258381</td>\n",
       "    </tr>\n",
       "    <tr>\n",
       "      <th>851</th>\n",
       "      <td>7</td>\n",
       "      <td>76</td>\n",
       "      <td>19</td>\n",
       "      <td>23.335652</td>\n",
       "      <td>67.404607</td>\n",
       "      <td>7.065264</td>\n",
       "      <td>36.186787</td>\n",
       "    </tr>\n",
       "    <tr>\n",
       "      <th>370</th>\n",
       "      <td>21</td>\n",
       "      <td>80</td>\n",
       "      <td>18</td>\n",
       "      <td>22.055923</td>\n",
       "      <td>19.603793</td>\n",
       "      <td>5.774755</td>\n",
       "      <td>126.726537</td>\n",
       "    </tr>\n",
       "    <tr>\n",
       "      <th>2010</th>\n",
       "      <td>100</td>\n",
       "      <td>51</td>\n",
       "      <td>36</td>\n",
       "      <td>24.886928</td>\n",
       "      <td>71.917115</td>\n",
       "      <td>7.319735</td>\n",
       "      <td>150.249867</td>\n",
       "    </tr>\n",
       "  </tbody>\n",
       "</table>\n",
       "<p>440 rows × 7 columns</p>\n",
       "</div>"
      ],
      "text/plain": [
       "        N   P   K  temperature   humidity        ph    rainfall\n",
       "2121  110  18  29    25.567483  60.492446  7.466901  190.225784\n",
       "960    31  20  41    23.985988  93.342366  5.684995  104.991282\n",
       "952     3   9  37    21.207254  94.263047  7.163005  107.566080\n",
       "1958  117  57  18    22.942767  75.371706  6.114526   67.080226\n",
       "681    27  43  21    28.086572  80.350059  6.760694   38.144768\n",
       "...   ...  ..  ..          ...        ...       ...         ...\n",
       "1684   19  19   9    10.164313  91.223210  6.465913  106.362551\n",
       "1477   85  25  55    28.965866  90.718329  6.566759   22.258381\n",
       "851     7  76  19    23.335652  67.404607  7.065264   36.186787\n",
       "370    21  80  18    22.055923  19.603793  5.774755  126.726537\n",
       "2010  100  51  36    24.886928  71.917115  7.319735  150.249867\n",
       "\n",
       "[440 rows x 7 columns]"
      ]
     },
     "execution_count": 38,
     "metadata": {},
     "output_type": "execute_result"
    }
   ],
   "source": [
    "Xtest"
   ]
  },
  {
   "cell_type": "code",
   "execution_count": null,
   "metadata": {},
   "outputs": [],
   "source": []
  }
 ],
 "metadata": {
  "kernelspec": {
   "display_name": "Python 3",
   "language": "python",
   "name": "python3"
  },
  "language_info": {
   "codemirror_mode": {
    "name": "ipython",
    "version": 3
   },
   "file_extension": ".py",
   "mimetype": "text/x-python",
   "name": "python",
   "nbconvert_exporter": "python",
   "pygments_lexer": "ipython3",
   "version": "3.7.6"
  }
 },
 "nbformat": 4,
 "nbformat_minor": 2
}
