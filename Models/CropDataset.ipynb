{
  "nbformat": 4,
  "nbformat_minor": 0,
  "metadata": {
    "colab": {
      "name": "CropDataset.ipynb",
      "provenance": [],
      "collapsed_sections": [],
      "mount_file_id": "1UJ6nfsq16vsI7XWBJxJHWb7-umNDXMYf",
      "authorship_tag": "ABX9TyPvBKiA9f6AGTFH/1ih6bu2",
      "include_colab_link": true
    },
    "kernelspec": {
      "name": "python3",
      "display_name": "Python 3"
    }
  },
  "cells": [
    {
      "cell_type": "markdown",
      "metadata": {
        "id": "view-in-github",
        "colab_type": "text"
      },
      "source": [
        "<a href=\"https://colab.research.google.com/github/akshayb80/AI-Based-Alternate-Crop-Recommendation-System/blob/master/Models/CropDataset.ipynb\" target=\"_parent\"><img src=\"https://colab.research.google.com/assets/colab-badge.svg\" alt=\"Open In Colab\"/></a>"
      ]
    },
    {
      "cell_type": "code",
      "metadata": {
        "id": "wXHGEq1VQb_b",
        "outputId": "f87268e0-54b2-411f-9f39-c318f6224a6e",
        "colab": {
          "base_uri": "https://localhost:8080/",
          "height": 194
        }
      },
      "source": [
        "import pandas as pd\n",
        "\n",
        "# Reading the dataset\n",
        "df = pd.read_csv('/content/drive/My Drive/Datasets/CropDataset.csv')\n",
        "df.head()"
      ],
      "execution_count": 278,
      "outputs": [
        {
          "output_type": "execute_result",
          "data": {
            "text/html": [
              "<div>\n",
              "<style scoped>\n",
              "    .dataframe tbody tr th:only-of-type {\n",
              "        vertical-align: middle;\n",
              "    }\n",
              "\n",
              "    .dataframe tbody tr th {\n",
              "        vertical-align: top;\n",
              "    }\n",
              "\n",
              "    .dataframe thead th {\n",
              "        text-align: right;\n",
              "    }\n",
              "</style>\n",
              "<table border=\"1\" class=\"dataframe\">\n",
              "  <thead>\n",
              "    <tr style=\"text-align: right;\">\n",
              "      <th></th>\n",
              "      <th>N</th>\n",
              "      <th>P</th>\n",
              "      <th>K</th>\n",
              "      <th>temperature</th>\n",
              "      <th>humidity</th>\n",
              "      <th>ph</th>\n",
              "      <th>rainfall</th>\n",
              "      <th>label</th>\n",
              "    </tr>\n",
              "  </thead>\n",
              "  <tbody>\n",
              "    <tr>\n",
              "      <th>0</th>\n",
              "      <td>73</td>\n",
              "      <td>57</td>\n",
              "      <td>44</td>\n",
              "      <td>20.879744</td>\n",
              "      <td>82.002744</td>\n",
              "      <td>6.502985</td>\n",
              "      <td>202.935536</td>\n",
              "      <td>rice</td>\n",
              "    </tr>\n",
              "    <tr>\n",
              "      <th>1</th>\n",
              "      <td>74</td>\n",
              "      <td>57</td>\n",
              "      <td>44</td>\n",
              "      <td>21.770462</td>\n",
              "      <td>80.319644</td>\n",
              "      <td>7.038096</td>\n",
              "      <td>226.655537</td>\n",
              "      <td>rice</td>\n",
              "    </tr>\n",
              "    <tr>\n",
              "      <th>2</th>\n",
              "      <td>92</td>\n",
              "      <td>41</td>\n",
              "      <td>38</td>\n",
              "      <td>23.004459</td>\n",
              "      <td>82.320763</td>\n",
              "      <td>7.840207</td>\n",
              "      <td>263.964248</td>\n",
              "      <td>rice</td>\n",
              "    </tr>\n",
              "    <tr>\n",
              "      <th>3</th>\n",
              "      <td>68</td>\n",
              "      <td>44</td>\n",
              "      <td>38</td>\n",
              "      <td>26.491096</td>\n",
              "      <td>80.158363</td>\n",
              "      <td>6.980401</td>\n",
              "      <td>242.864034</td>\n",
              "      <td>rice</td>\n",
              "    </tr>\n",
              "    <tr>\n",
              "      <th>4</th>\n",
              "      <td>66</td>\n",
              "      <td>36</td>\n",
              "      <td>40</td>\n",
              "      <td>20.130175</td>\n",
              "      <td>81.604873</td>\n",
              "      <td>7.628473</td>\n",
              "      <td>262.717340</td>\n",
              "      <td>rice</td>\n",
              "    </tr>\n",
              "  </tbody>\n",
              "</table>\n",
              "</div>"
            ],
            "text/plain": [
              "    N   P   K  temperature   humidity        ph    rainfall label\n",
              "0  73  57  44    20.879744  82.002744  6.502985  202.935536  rice\n",
              "1  74  57  44    21.770462  80.319644  7.038096  226.655537  rice\n",
              "2  92  41  38    23.004459  82.320763  7.840207  263.964248  rice\n",
              "3  68  44  38    26.491096  80.158363  6.980401  242.864034  rice\n",
              "4  66  36  40    20.130175  81.604873  7.628473  262.717340  rice"
            ]
          },
          "metadata": {
            "tags": []
          },
          "execution_count": 278
        }
      ]
    },
    {
      "cell_type": "code",
      "metadata": {
        "id": "uiMmon6FS6qp",
        "outputId": "323b24e6-fe40-4490-c764-0b35abac481e",
        "colab": {
          "base_uri": "https://localhost:8080/",
          "height": 194
        }
      },
      "source": [
        "inputs = df.drop(['label'],axis='columns')\n",
        "inputs.head()\n",
        "target = df.drop(['N','P','K','ph','humidity'],axis='columns')\n",
        "target.head()"
      ],
      "execution_count": 279,
      "outputs": [
        {
          "output_type": "execute_result",
          "data": {
            "text/html": [
              "<div>\n",
              "<style scoped>\n",
              "    .dataframe tbody tr th:only-of-type {\n",
              "        vertical-align: middle;\n",
              "    }\n",
              "\n",
              "    .dataframe tbody tr th {\n",
              "        vertical-align: top;\n",
              "    }\n",
              "\n",
              "    .dataframe thead th {\n",
              "        text-align: right;\n",
              "    }\n",
              "</style>\n",
              "<table border=\"1\" class=\"dataframe\">\n",
              "  <thead>\n",
              "    <tr style=\"text-align: right;\">\n",
              "      <th></th>\n",
              "      <th>temperature</th>\n",
              "      <th>rainfall</th>\n",
              "      <th>label</th>\n",
              "    </tr>\n",
              "  </thead>\n",
              "  <tbody>\n",
              "    <tr>\n",
              "      <th>0</th>\n",
              "      <td>20.879744</td>\n",
              "      <td>202.935536</td>\n",
              "      <td>rice</td>\n",
              "    </tr>\n",
              "    <tr>\n",
              "      <th>1</th>\n",
              "      <td>21.770462</td>\n",
              "      <td>226.655537</td>\n",
              "      <td>rice</td>\n",
              "    </tr>\n",
              "    <tr>\n",
              "      <th>2</th>\n",
              "      <td>23.004459</td>\n",
              "      <td>263.964248</td>\n",
              "      <td>rice</td>\n",
              "    </tr>\n",
              "    <tr>\n",
              "      <th>3</th>\n",
              "      <td>26.491096</td>\n",
              "      <td>242.864034</td>\n",
              "      <td>rice</td>\n",
              "    </tr>\n",
              "    <tr>\n",
              "      <th>4</th>\n",
              "      <td>20.130175</td>\n",
              "      <td>262.717340</td>\n",
              "      <td>rice</td>\n",
              "    </tr>\n",
              "  </tbody>\n",
              "</table>\n",
              "</div>"
            ],
            "text/plain": [
              "   temperature    rainfall label\n",
              "0    20.879744  202.935536  rice\n",
              "1    21.770462  226.655537  rice\n",
              "2    23.004459  263.964248  rice\n",
              "3    26.491096  242.864034  rice\n",
              "4    20.130175  262.717340  rice"
            ]
          },
          "metadata": {
            "tags": []
          },
          "execution_count": 279
        }
      ]
    },
    {
      "cell_type": "code",
      "metadata": {
        "id": "rX853xKlTOVy"
      },
      "source": [
        "from sklearn.preprocessing import LabelEncoder"
      ],
      "execution_count": 280,
      "outputs": []
    },
    {
      "cell_type": "code",
      "metadata": {
        "id": "BbfyUVHTTUHp"
      },
      "source": [
        "# Encoded the labels\n",
        "# le_N\t = LabelEncoder()\n",
        "# le_P = LabelEncoder()\n",
        "# le_K = LabelEncoder()\n",
        "# le_temperature = LabelEncoder()\n",
        "# le_humidity = LabelEncoder()\n",
        "# le_ph = LabelEncoder()\n",
        "# le_rainfall = LabelEncoder()\n",
        "\n"
      ],
      "execution_count": 281,
      "outputs": []
    },
    {
      "cell_type": "code",
      "metadata": {
        "id": "5GiLb-3Rk8iu"
      },
      "source": [
        "# inputs['N_n'] = le_N.fit_transform(inputs['N'])\n",
        "# inputs['P_n'] = le_P.fit_transform(inputs['P'])\n",
        "# inputs['K_n'] = le_K.fit_transform(inputs['K'])\n",
        "# inputs['temperature_n'] = le_temperature.fit_transform(inputs['temperature'])\n",
        "# inputs['humidity_n'] = le_humidity.fit_transform(inputs['humidity'])\n",
        "# inputs['ph_n'] = le_ph.fit_transform(inputs['ph'])\n",
        "# inputs['rainfall_n'] = le_rainfall.fit_transform(inputs['rainfall'])\n",
        "# inputs_n = inputs.drop(['N','P','K','temperature','humidity','ph','rainfall'],axis='columns')"
      ],
      "execution_count": 282,
      "outputs": []
    },
    {
      "cell_type": "code",
      "metadata": {
        "id": "6f0exKZ6lpCk",
        "outputId": "d60ec2ba-f996-45b4-83a2-07b133391bed",
        "colab": {
          "base_uri": "https://localhost:8080/",
          "height": 194
        }
      },
      "source": [
        "le_label\t = LabelEncoder()\n",
        "target['label_n'] = le_label.fit_transform(target['label'])\n",
        "target_n = target['label_n']\n",
        "target = target['label']\n",
        "inputs.head()"
      ],
      "execution_count": 283,
      "outputs": [
        {
          "output_type": "execute_result",
          "data": {
            "text/html": [
              "<div>\n",
              "<style scoped>\n",
              "    .dataframe tbody tr th:only-of-type {\n",
              "        vertical-align: middle;\n",
              "    }\n",
              "\n",
              "    .dataframe tbody tr th {\n",
              "        vertical-align: top;\n",
              "    }\n",
              "\n",
              "    .dataframe thead th {\n",
              "        text-align: right;\n",
              "    }\n",
              "</style>\n",
              "<table border=\"1\" class=\"dataframe\">\n",
              "  <thead>\n",
              "    <tr style=\"text-align: right;\">\n",
              "      <th></th>\n",
              "      <th>N</th>\n",
              "      <th>P</th>\n",
              "      <th>K</th>\n",
              "      <th>temperature</th>\n",
              "      <th>humidity</th>\n",
              "      <th>ph</th>\n",
              "      <th>rainfall</th>\n",
              "    </tr>\n",
              "  </thead>\n",
              "  <tbody>\n",
              "    <tr>\n",
              "      <th>0</th>\n",
              "      <td>73</td>\n",
              "      <td>57</td>\n",
              "      <td>44</td>\n",
              "      <td>20.879744</td>\n",
              "      <td>82.002744</td>\n",
              "      <td>6.502985</td>\n",
              "      <td>202.935536</td>\n",
              "    </tr>\n",
              "    <tr>\n",
              "      <th>1</th>\n",
              "      <td>74</td>\n",
              "      <td>57</td>\n",
              "      <td>44</td>\n",
              "      <td>21.770462</td>\n",
              "      <td>80.319644</td>\n",
              "      <td>7.038096</td>\n",
              "      <td>226.655537</td>\n",
              "    </tr>\n",
              "    <tr>\n",
              "      <th>2</th>\n",
              "      <td>92</td>\n",
              "      <td>41</td>\n",
              "      <td>38</td>\n",
              "      <td>23.004459</td>\n",
              "      <td>82.320763</td>\n",
              "      <td>7.840207</td>\n",
              "      <td>263.964248</td>\n",
              "    </tr>\n",
              "    <tr>\n",
              "      <th>3</th>\n",
              "      <td>68</td>\n",
              "      <td>44</td>\n",
              "      <td>38</td>\n",
              "      <td>26.491096</td>\n",
              "      <td>80.158363</td>\n",
              "      <td>6.980401</td>\n",
              "      <td>242.864034</td>\n",
              "    </tr>\n",
              "    <tr>\n",
              "      <th>4</th>\n",
              "      <td>66</td>\n",
              "      <td>36</td>\n",
              "      <td>40</td>\n",
              "      <td>20.130175</td>\n",
              "      <td>81.604873</td>\n",
              "      <td>7.628473</td>\n",
              "      <td>262.717340</td>\n",
              "    </tr>\n",
              "  </tbody>\n",
              "</table>\n",
              "</div>"
            ],
            "text/plain": [
              "    N   P   K  temperature   humidity        ph    rainfall\n",
              "0  73  57  44    20.879744  82.002744  6.502985  202.935536\n",
              "1  74  57  44    21.770462  80.319644  7.038096  226.655537\n",
              "2  92  41  38    23.004459  82.320763  7.840207  263.964248\n",
              "3  68  44  38    26.491096  80.158363  6.980401  242.864034\n",
              "4  66  36  40    20.130175  81.604873  7.628473  262.717340"
            ]
          },
          "metadata": {
            "tags": []
          },
          "execution_count": 283
        }
      ]
    },
    {
      "cell_type": "code",
      "metadata": {
        "id": "HzuXjeY8_TmY",
        "outputId": "78b02f0c-a7af-4b32-c751-2218ca06bdf4",
        "colab": {
          "base_uri": "https://localhost:8080/"
        }
      },
      "source": [
        "target_n.head() # encoded categories"
      ],
      "execution_count": 284,
      "outputs": [
        {
          "output_type": "execute_result",
          "data": {
            "text/plain": [
              "0    20\n",
              "1    20\n",
              "2    20\n",
              "3    20\n",
              "4    20\n",
              "Name: label_n, dtype: int64"
            ]
          },
          "metadata": {
            "tags": []
          },
          "execution_count": 284
        }
      ]
    },
    {
      "cell_type": "code",
      "metadata": {
        "id": "8EufsTGD-4DL"
      },
      "source": [
        "from sklearn.model_selection import train_test_split\n",
        "X_train, X_test, Y_train, Y_test = train_test_split(inputs,target_n, test_size=0.25,random_state=42)"
      ],
      "execution_count": 285,
      "outputs": []
    },
    {
      "cell_type": "code",
      "metadata": {
        "id": "Q6MGqcA6ziBv",
        "outputId": "f029208d-9c0b-4b50-f8a6-c0643370a5de",
        "colab": {
          "base_uri": "https://localhost:8080/"
        }
      },
      "source": [
        "# Training the model\n",
        "from sklearn import tree\n",
        "\n",
        "model = tree.DecisionTreeClassifier(criterion='entropy')\n",
        "\n",
        "model.fit(X_train,Y_train)\n"
      ],
      "execution_count": 286,
      "outputs": [
        {
          "output_type": "execute_result",
          "data": {
            "text/plain": [
              "DecisionTreeClassifier(ccp_alpha=0.0, class_weight=None, criterion='entropy',\n",
              "                       max_depth=None, max_features=None, max_leaf_nodes=None,\n",
              "                       min_impurity_decrease=0.0, min_impurity_split=None,\n",
              "                       min_samples_leaf=1, min_samples_split=2,\n",
              "                       min_weight_fraction_leaf=0.0, presort='deprecated',\n",
              "                       random_state=None, splitter='best')"
            ]
          },
          "metadata": {
            "tags": []
          },
          "execution_count": 286
        }
      ]
    },
    {
      "cell_type": "code",
      "metadata": {
        "id": "grO4_w9hN1Zr",
        "outputId": "f852101d-cb2e-4b10-a62a-42048d916943",
        "colab": {
          "base_uri": "https://localhost:8080/"
        }
      },
      "source": [
        "from sklearn.metrics import accuracy_score\n",
        "prediction_vals = model.predict(X_test)\n",
        "x = accuracy_score(Y_test, prediction_vals)\n",
        "print(x)"
      ],
      "execution_count": 287,
      "outputs": [
        {
          "output_type": "stream",
          "text": [
            "0.9818181818181818\n"
          ],
          "name": "stdout"
        }
      ]
    },
    {
      "cell_type": "code",
      "metadata": {
        "id": "G7GvxZow2seU",
        "outputId": "66411652-725f-432c-8fde-ccd01fb886b2",
        "colab": {
          "base_uri": "https://localhost:8080/"
        }
      },
      "source": [
        "model.score(X_test,Y_test)"
      ],
      "execution_count": 288,
      "outputs": [
        {
          "output_type": "execute_result",
          "data": {
            "text/plain": [
              "0.9818181818181818"
            ]
          },
          "metadata": {
            "tags": []
          },
          "execution_count": 288
        }
      ]
    },
    {
      "cell_type": "code",
      "metadata": {
        "id": "FucCdogdBTEI"
      },
      "source": [
        "# N = input(\"Nitrogen percent\")\n",
        "# N = le_N.fit_transform([N])\n",
        "# # P = le_P.fit_transform([input(\"Phosphorous percent\")])\n",
        "# K = le_K.fit_transform([input(\"Potassium percent\")])\n",
        "# rainfall = le_rainfall.fit_transform([input(\"Rainfall\")])\n",
        "# humidity = le_humidity.fit_transform([input(\"Humidity\")])\n",
        "# temperature = le_temperature.fit_transform([input(\"Temperature\")])\n",
        "# ph = le_ph.fit_transform([input(\"PH\")])\n"
      ],
      "execution_count": 289,
      "outputs": []
    },
    {
      "cell_type": "code",
      "metadata": {
        "id": "kXYND4v72ymK"
      },
      "source": [
        "# original =le_label.inverse_transform(model.predict([[N[0], P[0], K[0], temperature[0], humidity[0], ph[0], rainfall[0]]]))\n",
        "# # print(original)"
      ],
      "execution_count": 290,
      "outputs": []
    }
  ]
}